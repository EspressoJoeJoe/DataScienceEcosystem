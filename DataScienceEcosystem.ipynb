{
 "cells": [
  {
   "cell_type": "code",
   "execution_count": null,
   "id": "d96dfdb9-66c6-4041-9c57-62b9f3be3de3",
   "metadata": {},
   "outputs": [],
   "source": []
  },
  {
   "cell_type": "markdown",
   "id": "382511c1-6ede-43da-a2fd-643b5b53fc71",
   "metadata": {
    "tags": []
   },
   "source": [
    "# Data Science Tools and Ecosystem"
   ]
  },
  {
   "cell_type": "markdown",
   "id": "4e26af2b-8ce8-45f4-bbc5-be0080996e89",
   "metadata": {},
   "source": [
    "In this notebook, data science tools and ecosystems are summarized"
   ]
  },
  {
   "cell_type": "markdown",
   "id": "e77f8b98-5ad8-4b4c-8a5b-b0da49b508be",
   "metadata": {},
   "source": [
    "**Objectives:**\n",
    "* Popular languages in Data Science \n",
    "* Common libraries used by Data Scientists \n",
    "* Data Science Tools "
   ]
  },
  {
   "cell_type": "markdown",
   "id": "b867768d-3bb1-4b22-9b7c-e543b526a4e8",
   "metadata": {},
   "source": [
    "Some of the popular languages that Data Scientists use are:\n",
    "1. Python\n",
    "1. R\n",
    "1. SQL"
   ]
  },
  {
   "cell_type": "markdown",
   "id": "252fe85b-815b-4818-9c2c-b402578ed536",
   "metadata": {},
   "source": [
    "Some of the commonly used libraries used by data scientists include:\n",
    "1. NumPy\n",
    "1. pandas\n",
    "1. scikit-learn"
   ]
  },
  {
   "cell_type": "markdown",
   "id": "2c87aa24-c4c4-4b4d-917b-521fa62f884a",
   "metadata": {},
   "source": [
    "|Data science tools|\n",
    "---|\n",
    "Jupyter Notebook|\n",
    "R Studio|\n",
    "Spyder|"
   ]
  },
  {
   "cell_type": "markdown",
   "id": "7fad6719-fb49-4577-9df3-bffc97ebef53",
   "metadata": {},
   "source": [
    "### Below are a few examples of evaluating arithmetic expressions in Python"
   ]
  },
  {
   "cell_type": "code",
   "execution_count": 1,
   "id": "244d7954-02eb-4b4f-a0eb-12a6a3e8dfb4",
   "metadata": {
    "tags": []
   },
   "outputs": [
    {
     "name": "stdout",
     "output_type": "stream",
     "text": [
      "17\n"
     ]
    }
   ],
   "source": [
    "# This is a simple arithmetic expression\n",
    "result = (3*4) + 5\n",
    "print(result)"
   ]
  },
  {
   "cell_type": "code",
   "execution_count": 5,
   "id": "75651f43-3738-45fa-9b1b-0be85b334156",
   "metadata": {
    "tags": []
   },
   "outputs": [
    {
     "data": {
      "text/plain": [
       "3.33"
      ]
     },
     "execution_count": 5,
     "metadata": {},
     "output_type": "execute_result"
    }
   ],
   "source": [
    "# This will convert 200 minutes to hours by dividing by 60\n",
    "round(200/60, 2)"
   ]
  },
  {
   "cell_type": "markdown",
   "id": "778196db-705a-4cc5-a595-88ef401e725f",
   "metadata": {
    "tags": []
   },
   "source": [
    "## Author\n",
    "Joseph"
   ]
  },
  {
   "cell_type": "code",
   "execution_count": null,
   "id": "0a8a795f-c4e2-4a4b-b291-d076ae42ccf8",
   "metadata": {},
   "outputs": [],
   "source": []
  }
 ],
 "metadata": {
  "kernelspec": {
   "display_name": "Python",
   "language": "python",
   "name": "conda-env-python-py"
  },
  "language_info": {
   "codemirror_mode": {
    "name": "ipython",
    "version": 3
   },
   "file_extension": ".py",
   "mimetype": "text/x-python",
   "name": "python",
   "nbconvert_exporter": "python",
   "pygments_lexer": "ipython3",
   "version": "3.7.12"
  }
 },
 "nbformat": 4,
 "nbformat_minor": 5
}
